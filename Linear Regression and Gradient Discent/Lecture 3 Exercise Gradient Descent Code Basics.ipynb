{
 "cells": [
  {
   "cell_type": "code",
   "execution_count": 1,
   "outputs": [],
   "source": [
    "import pandas as pd\n",
    "import numpy as np"
   ],
   "metadata": {
    "collapsed": false,
    "pycharm": {
     "name": "#%%\n"
    }
   }
  },
  {
   "cell_type": "code",
   "execution_count": 2,
   "outputs": [
    {
     "data": {
      "text/plain": "     name  math  cs\n0   david    92  98\n1   laura    56  68\n2  sanjay    88  81\n3     wei    70  80\n4    jeff    80  83\n5   aamir    49  52\n6  venkat    65  66\n7   virat    35  30\n8  arthur    66  68\n9    paul    67  73",
      "text/html": "<div>\n<style scoped>\n    .dataframe tbody tr th:only-of-type {\n        vertical-align: middle;\n    }\n\n    .dataframe tbody tr th {\n        vertical-align: top;\n    }\n\n    .dataframe thead th {\n        text-align: right;\n    }\n</style>\n<table border=\"1\" class=\"dataframe\">\n  <thead>\n    <tr style=\"text-align: right;\">\n      <th></th>\n      <th>name</th>\n      <th>math</th>\n      <th>cs</th>\n    </tr>\n  </thead>\n  <tbody>\n    <tr>\n      <th>0</th>\n      <td>david</td>\n      <td>92</td>\n      <td>98</td>\n    </tr>\n    <tr>\n      <th>1</th>\n      <td>laura</td>\n      <td>56</td>\n      <td>68</td>\n    </tr>\n    <tr>\n      <th>2</th>\n      <td>sanjay</td>\n      <td>88</td>\n      <td>81</td>\n    </tr>\n    <tr>\n      <th>3</th>\n      <td>wei</td>\n      <td>70</td>\n      <td>80</td>\n    </tr>\n    <tr>\n      <th>4</th>\n      <td>jeff</td>\n      <td>80</td>\n      <td>83</td>\n    </tr>\n    <tr>\n      <th>5</th>\n      <td>aamir</td>\n      <td>49</td>\n      <td>52</td>\n    </tr>\n    <tr>\n      <th>6</th>\n      <td>venkat</td>\n      <td>65</td>\n      <td>66</td>\n    </tr>\n    <tr>\n      <th>7</th>\n      <td>virat</td>\n      <td>35</td>\n      <td>30</td>\n    </tr>\n    <tr>\n      <th>8</th>\n      <td>arthur</td>\n      <td>66</td>\n      <td>68</td>\n    </tr>\n    <tr>\n      <th>9</th>\n      <td>paul</td>\n      <td>67</td>\n      <td>73</td>\n    </tr>\n  </tbody>\n</table>\n</div>"
     },
     "execution_count": 2,
     "metadata": {},
     "output_type": "execute_result"
    }
   ],
   "source": [
    "df = pd.read_csv(\"Data Sets Lecture 3 Code Basics.csv\")\n",
    "df"
   ],
   "metadata": {
    "collapsed": false,
    "pycharm": {
     "name": "#%%\n"
    }
   }
  },
  {
   "cell_type": "code",
   "execution_count": 3,
   "outputs": [],
   "source": [
    "def gradient_descent(x,y):\n",
    "    m_curr = b_curr =0\n",
    "    iterations = 10000\n",
    "    n = len(x)\n",
    "    learning_rate = float(input(\"Enter the Learning rate\"))\n",
    "    for i in range(iterations):\n",
    "        y_predict = m_curr*x+b_curr\n",
    "        cost = (1/(2*n))*sum([val**2 for val in (y-y_predict)])\n",
    "        mde = -(1/n)*sum(x*(y-y_predict))\n",
    "        bde = -(1/n)*sum((y-y_predict))\n",
    "        m_curr = m_curr-learning_rate*mde\n",
    "        b_curr = b_curr-learning_rate*bde\n",
    "        print(f\" m = {m_curr},  b = {b_curr}, Iteration no {i+1},  Cost = {cost}\")"
   ],
   "metadata": {
    "collapsed": false,
    "pycharm": {
     "name": "#%%\n"
    }
   }
  },
  {
   "cell_type": "code",
   "execution_count": 4,
   "outputs": [],
   "source": [
    "x =df['math']\n",
    "y= df['cs']"
   ],
   "metadata": {
    "collapsed": false,
    "pycharm": {
     "name": "#%%\n"
    }
   }
  },
  {
   "cell_type": "code",
   "execution_count": 5,
   "outputs": [
    {
     "name": "stdout",
     "output_type": "stream",
     "text": [
      " m = 395.672,  b = 5.5920000000000005, Iteration no 1,  Cost = 2599.55\n",
      " m = -149087.439488,  b = -2103.7345279999995, Iteration no 2,  Cost = 368761908.5536032\n",
      " m = 56324945.672725,  b = 794793.432858112, Iteration no 3,  Cost = 52633152851575.164\n",
      " m = -21279305459.934875,  b = -300269294.12481296, Iteration no 4,  Cost = 7.512296780988752e+18\n",
      " m = 8039223897830.077,  b = 113440360632.88918, Iteration no 5,  Cost = 1.0722253915667153e+24\n",
      " m = -3037181875975203.0,  b = -42857247378216.08, Iteration no 6,  Cost = 1.5303805531616398e+29\n",
      " m = 1.1474333673233434e+18,  b = 1.619127127762353e+16, Iteration no 7,  Cost = 2.1843025318334844e+34\n",
      " m = -4.3349505765908093e+20,  b = -6.116987945400535e+18, Iteration no 8,  Cost = 3.117641256429528e+39\n",
      " m = 1.6377244236256832e+23,  b = 2.3109699592203602e+21, Iteration no 9,  Cost = 4.449789743929323e+44\n",
      " m = -6.187247675265139e+25,  b = -8.730738396230824e+23, Iteration no 10,  Cost = 6.351156896048782e+49\n",
      " m = 2.3375137625610434e+28,  b = 3.298432878337158e+26, Iteration no 11,  Cost = 9.064966265711422e+54\n",
      " m = -8.831019666475757e+30,  b = -1.2461327964645515e+29, Iteration no 12,  Cost = 1.2938369299238764e+60\n",
      " m = 3.3363186817876545e+33,  b = 4.707832488037171e+31, Iteration no 13,  Cost = 1.84668530711125e+65\n",
      " m = -1.260445879052994e+36,  b = -1.7785974976583284e+34, Iteration no 14,  Cost = 2.6357623164313413e+70\n",
      " m = 4.761906656861718e+38,  b = 6.719459680680743e+36, Iteration no 15,  Cost = 3.762006965651885e+75\n",
      " m = -1.7990264703551437e+41,  b = -2.538581014520676e+39, Iteration no 16,  Cost = 5.369488865284017e+80\n",
      " m = 6.796639401519608e+43,  b = 9.590642512244299e+41, Iteration no 17,  Cost = 7.66383766368521e+85\n",
      " m = -2.5677391586778403e+46,  b = -3.623300705060814e+44, Iteration no 18,  Cost = 1.0938547263793096e+91\n",
      " m = 9.700800642054723e+48,  b = 1.3688663697487819e+47, Iteration no 19,  Cost = 1.5612519666119852e+96\n",
      " m = -3.664917940704904e+51,  b = -5.171514292512355e+49, Iteration no 20,  Cost = 2.2283651059569983e+101\n",
      " m = 1.3845891702868484e+54,  b = 1.9537743543635895e+52, Iteration no 21,  Cost = 3.1805314911611807e+106\n",
      " m = -5.230914311022458e+56,  b = -7.381269801952772e+54, Iteration no 22,  Cost = 4.5395525801520857e+111\n",
      " m = 1.9762154086176192e+59,  b = 2.7886098395926047e+57, Iteration no 23,  Cost = 6.479274827252804e+116\n",
      " m = -7.46605107452875e+61,  b = -1.0535239933128303e+60, Iteration no 24,  Cost = 9.24782818258829e+121\n",
      " m = 2.8206398150930265e+64,  b = 3.980165273489687e+62, Iteration no 25,  Cost = 1.319936696232647e+127\n",
      " m = -1.0656247709891535e+67,  b = -1.503688165134103e+65, Iteration no 26,  Cost = 1.8839373393007158e+132\n",
      " m = 4.025881455935678e+69,  b = 5.680864845046802e+67, Iteration no 27,  Cost = 2.688931907523759e+137\n",
      " m = -1.520959528953344e+72,  b = -2.1462046543945834e+70, Iteration no 28,  Cost = 3.837895588386786e+142\n",
      " m = 5.74611526452988e+74,  b = 8.10826263990624e+72, Iteration no 29,  Cost = 5.477804218896392e+147\n",
      " m = -2.1708559632737025e+77,  b = -3.063264395736054e+75, Iteration no 30,  Cost = 7.818435486196198e+152\n",
      " m = 8.20139415297051e+79,  b = 1.1572872235293898e+78, Iteration no 31,  Cost = 1.1159203762876972e+158\n",
      " m = -3.0984490537522746e+82,  b = -4.37217799289097e+80, Iteration no 32,  Cost = 1.59274612985254e+163\n",
      " m = 1.170579825775249e+85,  b = 1.651788770571756e+83, Iteration no 33,  Cost = 2.2733165269367016e+168\n",
      " m = -4.422396833837264e+87,  b = -6.240382132253671e+85, Iteration no 34,  Cost = 3.244690371416571e+173\n",
      " m = 1.6707612180981591e+90,  b = 2.3575877164409603e+88, Iteration no 35,  Cost = 4.6311261461464566e+178\n",
      " m = -6.312059167876033e+92,  b = -8.906858142525305e+90, Iteration no 36,  Cost = 6.60997720166372e+183\n",
      " m = 2.384666971389272e+95,  b = 3.364970109821829e+93, Iteration no 37,  Cost = 9.434378858988747e+188\n",
      " m = -9.009162324358246e+97,  b = -1.271270257009391e+96, Iteration no 38,  Cost = 1.3465629568666403e+194\n",
      " m = 3.4036201599819435e+100,  b = 4.8028006597725616e+98, Iteration no 39,  Cost = 1.921940833526995e+199\n",
      " m = -1.2858720684956379e+103,  b = -1.81447603688736e+101, Iteration no 40,  Cost = 2.743174055651875e+204\n",
      " m = 4.857965633115837e+105,  b = 6.855007154501327e+103, Iteration no 41,  Cost = 3.9153150650284346e+209\n",
      " m = -1.8353171105228505e+108,  b = -2.5897902277549622e+106, Iteration no 42,  Cost = 5.588304550655191e+214\n",
      " m = 6.933743773764623e+110,  b = 9.784108568538767e+108, Iteration no 43,  Cost = 7.976151914264066e+219\n",
      " m = -2.6195365609882764e+113,  b = -3.696391292816759e+111, Iteration no 44,  Cost = 1.1384311428044747e+225\n",
      " m = 9.896488849671799e+115,  b = 1.3964796582027438e+114, Iteration no 45,  Cost = 1.6248756052268373e+230\n",
      " m = -3.7388480470273757e+118,  b = -5.275836028409144e+116, Iteration no 46,  Cost = 2.319174724926458e+235\n",
      " m = 1.4125196250005387e+121,  b = 1.9931866271852933e+119, Iteration no 47,  Cost = 3.3101434887914694e+240\n",
      " m = -5.336434286485602e+123,  b = -7.530167559032776e+121, Iteration no 48,  Cost = 4.724546968636013e+245\n",
      " m = 2.0160803708456965e+126,  b = 2.8448627285435957e+124, Iteration no 49,  Cost = 6.743316153644216e+250\n",
      " m = -7.6166590714005e+128,  b = -1.0747760764696803e+127, Iteration no 50,  Cost = 9.624692705960545e+255\n",
      " m = 2.877538824784662e+131,  b = 4.060454667852906e+129, Iteration no 51,  Cost = 1.3737263324678697e+261\n",
      " m = -1.0871209555951128e+134,  b = -1.534021129670499e+132, Iteration no 52,  Cost = 1.9607109485655937e+266\n",
      " m = 4.1070930543655566e+136,  b = 5.795461392307316e+134, Iteration no 53,  Cost = 2.7985103968405623e+271\n",
      " m = -1.5516408979517626e+139,  b = -2.189498703772031e+137, Iteration no 54,  Cost = 3.994296276538961e+276\n",
      " m = 5.862028067850694e+141,  b = 8.271825570579518e+139, Iteration no 55,  Cost = 5.7010339367633045e+281\n",
      " m = -2.2146472881470565e+144,  b = -3.125057719934477e+142, Iteration no 56,  Cost = 8.137049857575806e+286\n",
      " m = 8.366835767634593e+146,  b = 1.1806324576834476e+145, Iteration no 57,  Cost = 1.1613960049896725e+292\n",
      " m = -3.1609521361363255e+149,  b = -4.4603752156132385e+147, Iteration no 58,  Cost = 1.6576532084907467e+297\n",
      " m = 1.1941932033129356e+152,  b = 1.6851092763528883e+150, Iteration no 59,  Cost = 2.3659579917739628e+302\n",
      " m = -4.511607089950904e+154,  b = -6.366265473161882e+152, Iteration no 60,  Cost = inf\n"
     ]
    },
    {
     "ename": "OverflowError",
     "evalue": "(34, 'Result too large')",
     "output_type": "error",
     "traceback": [
      "\u001B[1;31m---------------------------------------------------------------------------\u001B[0m",
      "\u001B[1;31mOverflowError\u001B[0m                             Traceback (most recent call last)",
      "Input \u001B[1;32mIn [5]\u001B[0m, in \u001B[0;36m<cell line: 1>\u001B[1;34m()\u001B[0m\n\u001B[1;32m----> 1\u001B[0m \u001B[43mgradient_descent\u001B[49m\u001B[43m(\u001B[49m\u001B[43mx\u001B[49m\u001B[43m,\u001B[49m\u001B[43my\u001B[49m\u001B[43m)\u001B[49m\n",
      "Input \u001B[1;32mIn [3]\u001B[0m, in \u001B[0;36mgradient_descent\u001B[1;34m(x, y)\u001B[0m\n\u001B[0;32m      6\u001B[0m \u001B[38;5;28;01mfor\u001B[39;00m i \u001B[38;5;129;01min\u001B[39;00m \u001B[38;5;28mrange\u001B[39m(iterations):\n\u001B[0;32m      7\u001B[0m     y_predict \u001B[38;5;241m=\u001B[39m m_curr\u001B[38;5;241m*\u001B[39mx\u001B[38;5;241m+\u001B[39mb_curr\n\u001B[1;32m----> 8\u001B[0m     cost \u001B[38;5;241m=\u001B[39m (\u001B[38;5;241m1\u001B[39m\u001B[38;5;241m/\u001B[39m(\u001B[38;5;241m2\u001B[39m\u001B[38;5;241m*\u001B[39mn))\u001B[38;5;241m*\u001B[39m\u001B[38;5;28msum\u001B[39m([val\u001B[38;5;241m*\u001B[39m\u001B[38;5;241m*\u001B[39m\u001B[38;5;241m2\u001B[39m \u001B[38;5;28;01mfor\u001B[39;00m val \u001B[38;5;129;01min\u001B[39;00m (y\u001B[38;5;241m-\u001B[39my_predict)])\n\u001B[0;32m      9\u001B[0m     mde \u001B[38;5;241m=\u001B[39m \u001B[38;5;241m-\u001B[39m(\u001B[38;5;241m1\u001B[39m\u001B[38;5;241m/\u001B[39mn)\u001B[38;5;241m*\u001B[39m\u001B[38;5;28msum\u001B[39m(x\u001B[38;5;241m*\u001B[39m(y\u001B[38;5;241m-\u001B[39my_predict))\n\u001B[0;32m     10\u001B[0m     bde \u001B[38;5;241m=\u001B[39m \u001B[38;5;241m-\u001B[39m(\u001B[38;5;241m1\u001B[39m\u001B[38;5;241m/\u001B[39mn)\u001B[38;5;241m*\u001B[39m\u001B[38;5;28msum\u001B[39m((y\u001B[38;5;241m-\u001B[39my_predict))\n",
      "Input \u001B[1;32mIn [3]\u001B[0m, in \u001B[0;36m<listcomp>\u001B[1;34m(.0)\u001B[0m\n\u001B[0;32m      6\u001B[0m \u001B[38;5;28;01mfor\u001B[39;00m i \u001B[38;5;129;01min\u001B[39;00m \u001B[38;5;28mrange\u001B[39m(iterations):\n\u001B[0;32m      7\u001B[0m     y_predict \u001B[38;5;241m=\u001B[39m m_curr\u001B[38;5;241m*\u001B[39mx\u001B[38;5;241m+\u001B[39mb_curr\n\u001B[1;32m----> 8\u001B[0m     cost \u001B[38;5;241m=\u001B[39m (\u001B[38;5;241m1\u001B[39m\u001B[38;5;241m/\u001B[39m(\u001B[38;5;241m2\u001B[39m\u001B[38;5;241m*\u001B[39mn))\u001B[38;5;241m*\u001B[39m\u001B[38;5;28msum\u001B[39m([\u001B[43mval\u001B[49m\u001B[38;5;241;43m*\u001B[39;49m\u001B[38;5;241;43m*\u001B[39;49m\u001B[38;5;241;43m2\u001B[39;49m \u001B[38;5;28;01mfor\u001B[39;00m val \u001B[38;5;129;01min\u001B[39;00m (y\u001B[38;5;241m-\u001B[39my_predict)])\n\u001B[0;32m      9\u001B[0m     mde \u001B[38;5;241m=\u001B[39m \u001B[38;5;241m-\u001B[39m(\u001B[38;5;241m1\u001B[39m\u001B[38;5;241m/\u001B[39mn)\u001B[38;5;241m*\u001B[39m\u001B[38;5;28msum\u001B[39m(x\u001B[38;5;241m*\u001B[39m(y\u001B[38;5;241m-\u001B[39my_predict))\n\u001B[0;32m     10\u001B[0m     bde \u001B[38;5;241m=\u001B[39m \u001B[38;5;241m-\u001B[39m(\u001B[38;5;241m1\u001B[39m\u001B[38;5;241m/\u001B[39mn)\u001B[38;5;241m*\u001B[39m\u001B[38;5;28msum\u001B[39m((y\u001B[38;5;241m-\u001B[39my_predict))\n",
      "\u001B[1;31mOverflowError\u001B[0m: (34, 'Result too large')"
     ]
    }
   ],
   "source": [
    "gradient_descent(x,y)"
   ],
   "metadata": {
    "collapsed": false,
    "pycharm": {
     "name": "#%%\n"
    }
   }
  },
  {
   "cell_type": "code",
   "execution_count": null,
   "outputs": [],
   "source": [],
   "metadata": {
    "collapsed": false,
    "pycharm": {
     "name": "#%%\n"
    }
   }
  }
 ],
 "metadata": {
  "kernelspec": {
   "display_name": "Python 3",
   "language": "python",
   "name": "python3"
  },
  "language_info": {
   "codemirror_mode": {
    "name": "ipython",
    "version": 2
   },
   "file_extension": ".py",
   "mimetype": "text/x-python",
   "name": "python",
   "nbconvert_exporter": "python",
   "pygments_lexer": "ipython2",
   "version": "2.7.6"
  }
 },
 "nbformat": 4,
 "nbformat_minor": 0
}